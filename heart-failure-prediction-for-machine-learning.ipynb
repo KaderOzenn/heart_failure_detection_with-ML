{
 "cells": [
  {
   "cell_type": "code",
   "execution_count": null,
   "metadata": {
    "_cell_guid": "b7708688-2250-4a58-9627-54e6c11130b8",
    "_uuid": "ee2dd65a-220d-480a-8232-44f0bd6c062c",
    "collapsed": false,
    "execution": {
     "iopub.execute_input": "2023-01-18T12:25:41.168721Z",
     "iopub.status.busy": "2023-01-18T12:25:41.168180Z",
     "iopub.status.idle": "2023-01-18T12:25:42.945926Z",
     "shell.execute_reply": "2023-01-18T12:25:42.944466Z",
     "shell.execute_reply.started": "2023-01-18T12:25:41.168611Z"
    },
    "jupyter": {
     "outputs_hidden": false
    },
    "trusted": true
   },
   "outputs": [],
   "source": [
    "#Importing necessary libraries\n",
    "import matplotlib.pyplot as plt\n",
    "import seaborn as sns\n",
    "import numpy as np \n",
    "import pandas as pd\n",
    "\n",
    "from sklearn.neighbors import KNeighborsClassifier\n",
    "from sklearn.metrics import classification_report,confusion_matrix"
   ]
  },
  {
   "cell_type": "markdown",
   "metadata": {
    "_cell_guid": "27f2616e-8349-4ddb-8df5-aa84aac4a106",
    "_uuid": "97c2215b-21f4-429a-a9a5-1f0c1aa5611d",
    "trusted": true
   },
   "source": [
    "# Loading the Dataset"
   ]
  },
  {
   "cell_type": "code",
   "execution_count": null,
   "metadata": {
    "_cell_guid": "6a8997d3-169f-4486-bcce-3e599d5d571d",
    "_uuid": "d0626aa1-1a0a-405e-8b37-b5c509091e13",
    "collapsed": false,
    "execution": {
     "iopub.execute_input": "2023-01-18T12:25:47.122827Z",
     "iopub.status.busy": "2023-01-18T12:25:47.122397Z",
     "iopub.status.idle": "2023-01-18T12:25:47.151252Z",
     "shell.execute_reply": "2023-01-18T12:25:47.149555Z",
     "shell.execute_reply.started": "2023-01-18T12:25:47.122793Z"
    },
    "jupyter": {
     "outputs_hidden": false
    },
    "trusted": true
   },
   "outputs": [],
   "source": [
    "df=pd.read_csv('/kaggle/input/heart-failure-prediction/heart.csv')"
   ]
  },
  {
   "cell_type": "code",
   "execution_count": null,
   "metadata": {
    "_cell_guid": "345bc121-513f-4328-9db3-4f68e2f59743",
    "_uuid": "45e27eb6-34a2-4455-baed-c2cafa1f5478",
    "collapsed": false,
    "execution": {
     "iopub.execute_input": "2023-01-18T12:25:49.866473Z",
     "iopub.status.busy": "2023-01-18T12:25:49.866015Z",
     "iopub.status.idle": "2023-01-18T12:25:49.900001Z",
     "shell.execute_reply": "2023-01-18T12:25:49.898205Z",
     "shell.execute_reply.started": "2023-01-18T12:25:49.866437Z"
    },
    "jupyter": {
     "outputs_hidden": false
    },
    "trusted": true
   },
   "outputs": [
    {
     "data": {
      "text/html": [
       "<div>\n",
       "<style scoped>\n",
       "    .dataframe tbody tr th:only-of-type {\n",
       "        vertical-align: middle;\n",
       "    }\n",
       "\n",
       "    .dataframe tbody tr th {\n",
       "        vertical-align: top;\n",
       "    }\n",
       "\n",
       "    .dataframe thead th {\n",
       "        text-align: right;\n",
       "    }\n",
       "</style>\n",
       "<table border=\"1\" class=\"dataframe\">\n",
       "  <thead>\n",
       "    <tr style=\"text-align: right;\">\n",
       "      <th></th>\n",
       "      <th>Age</th>\n",
       "      <th>Sex</th>\n",
       "      <th>ChestPainType</th>\n",
       "      <th>RestingBP</th>\n",
       "      <th>Cholesterol</th>\n",
       "      <th>FastingBS</th>\n",
       "      <th>RestingECG</th>\n",
       "      <th>MaxHR</th>\n",
       "      <th>ExerciseAngina</th>\n",
       "      <th>Oldpeak</th>\n",
       "      <th>ST_Slope</th>\n",
       "      <th>HeartDisease</th>\n",
       "    </tr>\n",
       "  </thead>\n",
       "  <tbody>\n",
       "    <tr>\n",
       "      <th>0</th>\n",
       "      <td>40</td>\n",
       "      <td>M</td>\n",
       "      <td>ATA</td>\n",
       "      <td>140</td>\n",
       "      <td>289</td>\n",
       "      <td>0</td>\n",
       "      <td>Normal</td>\n",
       "      <td>172</td>\n",
       "      <td>N</td>\n",
       "      <td>0.0</td>\n",
       "      <td>Up</td>\n",
       "      <td>0</td>\n",
       "    </tr>\n",
       "    <tr>\n",
       "      <th>1</th>\n",
       "      <td>49</td>\n",
       "      <td>F</td>\n",
       "      <td>NAP</td>\n",
       "      <td>160</td>\n",
       "      <td>180</td>\n",
       "      <td>0</td>\n",
       "      <td>Normal</td>\n",
       "      <td>156</td>\n",
       "      <td>N</td>\n",
       "      <td>1.0</td>\n",
       "      <td>Flat</td>\n",
       "      <td>1</td>\n",
       "    </tr>\n",
       "    <tr>\n",
       "      <th>2</th>\n",
       "      <td>37</td>\n",
       "      <td>M</td>\n",
       "      <td>ATA</td>\n",
       "      <td>130</td>\n",
       "      <td>283</td>\n",
       "      <td>0</td>\n",
       "      <td>ST</td>\n",
       "      <td>98</td>\n",
       "      <td>N</td>\n",
       "      <td>0.0</td>\n",
       "      <td>Up</td>\n",
       "      <td>0</td>\n",
       "    </tr>\n",
       "    <tr>\n",
       "      <th>3</th>\n",
       "      <td>48</td>\n",
       "      <td>F</td>\n",
       "      <td>ASY</td>\n",
       "      <td>138</td>\n",
       "      <td>214</td>\n",
       "      <td>0</td>\n",
       "      <td>Normal</td>\n",
       "      <td>108</td>\n",
       "      <td>Y</td>\n",
       "      <td>1.5</td>\n",
       "      <td>Flat</td>\n",
       "      <td>1</td>\n",
       "    </tr>\n",
       "    <tr>\n",
       "      <th>4</th>\n",
       "      <td>54</td>\n",
       "      <td>M</td>\n",
       "      <td>NAP</td>\n",
       "      <td>150</td>\n",
       "      <td>195</td>\n",
       "      <td>0</td>\n",
       "      <td>Normal</td>\n",
       "      <td>122</td>\n",
       "      <td>N</td>\n",
       "      <td>0.0</td>\n",
       "      <td>Up</td>\n",
       "      <td>0</td>\n",
       "    </tr>\n",
       "  </tbody>\n",
       "</table>\n",
       "</div>"
      ],
      "text/plain": [
       "   Age Sex ChestPainType  RestingBP  Cholesterol  FastingBS RestingECG  MaxHR  \\\n",
       "0   40   M           ATA        140          289          0     Normal    172   \n",
       "1   49   F           NAP        160          180          0     Normal    156   \n",
       "2   37   M           ATA        130          283          0         ST     98   \n",
       "3   48   F           ASY        138          214          0     Normal    108   \n",
       "4   54   M           NAP        150          195          0     Normal    122   \n",
       "\n",
       "  ExerciseAngina  Oldpeak ST_Slope  HeartDisease  \n",
       "0              N      0.0       Up             0  \n",
       "1              N      1.0     Flat             1  \n",
       "2              N      0.0       Up             0  \n",
       "3              Y      1.5     Flat             1  \n",
       "4              N      0.0       Up             0  "
      ]
     },
     "execution_count": 3,
     "metadata": {},
     "output_type": "execute_result"
    }
   ],
   "source": [
    "df.head(5) "
   ]
  },
  {
   "cell_type": "code",
   "execution_count": null,
   "metadata": {
    "_cell_guid": "54ed8c53-fc91-4a8c-8d09-3d104dec05f1",
    "_uuid": "dc2c986c-b19d-46a0-a3bd-9cc9ff4abe04",
    "collapsed": false,
    "execution": {
     "iopub.execute_input": "2023-01-18T12:25:52.787578Z",
     "iopub.status.busy": "2023-01-18T12:25:52.787099Z",
     "iopub.status.idle": "2023-01-18T12:25:52.807741Z",
     "shell.execute_reply": "2023-01-18T12:25:52.805915Z",
     "shell.execute_reply.started": "2023-01-18T12:25:52.787538Z"
    },
    "jupyter": {
     "outputs_hidden": false
    },
    "trusted": true
   },
   "outputs": [
    {
     "data": {
      "text/html": [
       "<div>\n",
       "<style scoped>\n",
       "    .dataframe tbody tr th:only-of-type {\n",
       "        vertical-align: middle;\n",
       "    }\n",
       "\n",
       "    .dataframe tbody tr th {\n",
       "        vertical-align: top;\n",
       "    }\n",
       "\n",
       "    .dataframe thead th {\n",
       "        text-align: right;\n",
       "    }\n",
       "</style>\n",
       "<table border=\"1\" class=\"dataframe\">\n",
       "  <thead>\n",
       "    <tr style=\"text-align: right;\">\n",
       "      <th></th>\n",
       "      <th>Age</th>\n",
       "      <th>Sex</th>\n",
       "      <th>ChestPainType</th>\n",
       "      <th>RestingBP</th>\n",
       "      <th>Cholesterol</th>\n",
       "      <th>FastingBS</th>\n",
       "      <th>RestingECG</th>\n",
       "      <th>MaxHR</th>\n",
       "      <th>ExerciseAngina</th>\n",
       "      <th>Oldpeak</th>\n",
       "      <th>ST_Slope</th>\n",
       "      <th>HeartDisease</th>\n",
       "    </tr>\n",
       "  </thead>\n",
       "  <tbody>\n",
       "    <tr>\n",
       "      <th>913</th>\n",
       "      <td>45</td>\n",
       "      <td>M</td>\n",
       "      <td>TA</td>\n",
       "      <td>110</td>\n",
       "      <td>264</td>\n",
       "      <td>0</td>\n",
       "      <td>Normal</td>\n",
       "      <td>132</td>\n",
       "      <td>N</td>\n",
       "      <td>1.2</td>\n",
       "      <td>Flat</td>\n",
       "      <td>1</td>\n",
       "    </tr>\n",
       "    <tr>\n",
       "      <th>914</th>\n",
       "      <td>68</td>\n",
       "      <td>M</td>\n",
       "      <td>ASY</td>\n",
       "      <td>144</td>\n",
       "      <td>193</td>\n",
       "      <td>1</td>\n",
       "      <td>Normal</td>\n",
       "      <td>141</td>\n",
       "      <td>N</td>\n",
       "      <td>3.4</td>\n",
       "      <td>Flat</td>\n",
       "      <td>1</td>\n",
       "    </tr>\n",
       "    <tr>\n",
       "      <th>915</th>\n",
       "      <td>57</td>\n",
       "      <td>M</td>\n",
       "      <td>ASY</td>\n",
       "      <td>130</td>\n",
       "      <td>131</td>\n",
       "      <td>0</td>\n",
       "      <td>Normal</td>\n",
       "      <td>115</td>\n",
       "      <td>Y</td>\n",
       "      <td>1.2</td>\n",
       "      <td>Flat</td>\n",
       "      <td>1</td>\n",
       "    </tr>\n",
       "    <tr>\n",
       "      <th>916</th>\n",
       "      <td>57</td>\n",
       "      <td>F</td>\n",
       "      <td>ATA</td>\n",
       "      <td>130</td>\n",
       "      <td>236</td>\n",
       "      <td>0</td>\n",
       "      <td>LVH</td>\n",
       "      <td>174</td>\n",
       "      <td>N</td>\n",
       "      <td>0.0</td>\n",
       "      <td>Flat</td>\n",
       "      <td>1</td>\n",
       "    </tr>\n",
       "    <tr>\n",
       "      <th>917</th>\n",
       "      <td>38</td>\n",
       "      <td>M</td>\n",
       "      <td>NAP</td>\n",
       "      <td>138</td>\n",
       "      <td>175</td>\n",
       "      <td>0</td>\n",
       "      <td>Normal</td>\n",
       "      <td>173</td>\n",
       "      <td>N</td>\n",
       "      <td>0.0</td>\n",
       "      <td>Up</td>\n",
       "      <td>0</td>\n",
       "    </tr>\n",
       "  </tbody>\n",
       "</table>\n",
       "</div>"
      ],
      "text/plain": [
       "     Age Sex ChestPainType  RestingBP  Cholesterol  FastingBS RestingECG  \\\n",
       "913   45   M            TA        110          264          0     Normal   \n",
       "914   68   M           ASY        144          193          1     Normal   \n",
       "915   57   M           ASY        130          131          0     Normal   \n",
       "916   57   F           ATA        130          236          0        LVH   \n",
       "917   38   M           NAP        138          175          0     Normal   \n",
       "\n",
       "     MaxHR ExerciseAngina  Oldpeak ST_Slope  HeartDisease  \n",
       "913    132              N      1.2     Flat             1  \n",
       "914    141              N      3.4     Flat             1  \n",
       "915    115              Y      1.2     Flat             1  \n",
       "916    174              N      0.0     Flat             1  \n",
       "917    173              N      0.0       Up             0  "
      ]
     },
     "execution_count": 4,
     "metadata": {},
     "output_type": "execute_result"
    }
   ],
   "source": [
    "df.tail(5) "
   ]
  },
  {
   "cell_type": "markdown",
   "metadata": {
    "_cell_guid": "778cc153-4080-42b4-90f9-b70d85a3c3ea",
    "_uuid": "42b4840e-79be-408f-9f30-47221a452b19",
    "trusted": true
   },
   "source": [
    "# Labeled Data : Heart Failure (Heart Disease)\n",
    "Heart failure: 1\n",
    "Heart Failure not : 0"
   ]
  },
  {
   "cell_type": "markdown",
   "metadata": {
    "_cell_guid": "853c5c39-d9d0-4d93-bc24-9ad4589d79fa",
    "_uuid": "b2b00b2c-3aa5-4361-9120-9f5354ee98ca",
    "trusted": true
   },
   "source": [
    "Column Descriptions: Age, Gender, Chest pain type, Resting Blood Pressure, Cholesterol, Fasting Blood Glucose, Electrocardiogram, Maximum Heart Rate, Exercise-induced angina, ST, Heart failure"
   ]
  },
  {
   "cell_type": "markdown",
   "metadata": {
    "_cell_guid": "6dbde652-0416-4cf7-9331-f9ae166c9aac",
    "_uuid": "9835295d-3d43-4d84-8397-9b6893b060d9",
    "trusted": true
   },
   "source": [
    "# Data Preprocessing"
   ]
  },
  {
   "cell_type": "code",
   "execution_count": null,
   "metadata": {
    "_cell_guid": "cc26879d-92cc-435e-ac4f-f4f1645b66ea",
    "_uuid": "96a4be49-656f-430f-8c7d-34da70806ffa",
    "collapsed": false,
    "execution": {
     "iopub.execute_input": "2023-01-18T12:25:57.228699Z",
     "iopub.status.busy": "2023-01-18T12:25:57.228220Z",
     "iopub.status.idle": "2023-01-18T12:25:57.262633Z",
     "shell.execute_reply": "2023-01-18T12:25:57.261410Z",
     "shell.execute_reply.started": "2023-01-18T12:25:57.228665Z"
    },
    "jupyter": {
     "outputs_hidden": false
    },
    "trusted": true
   },
   "outputs": [
    {
     "name": "stdout",
     "output_type": "stream",
     "text": [
      "<class 'pandas.core.frame.DataFrame'>\n",
      "RangeIndex: 918 entries, 0 to 917\n",
      "Data columns (total 12 columns):\n",
      " #   Column          Non-Null Count  Dtype  \n",
      "---  ------          --------------  -----  \n",
      " 0   Age             918 non-null    int64  \n",
      " 1   Sex             918 non-null    object \n",
      " 2   ChestPainType   918 non-null    object \n",
      " 3   RestingBP       918 non-null    int64  \n",
      " 4   Cholesterol     918 non-null    int64  \n",
      " 5   FastingBS       918 non-null    int64  \n",
      " 6   RestingECG      918 non-null    object \n",
      " 7   MaxHR           918 non-null    int64  \n",
      " 8   ExerciseAngina  918 non-null    object \n",
      " 9   Oldpeak         918 non-null    float64\n",
      " 10  ST_Slope        918 non-null    object \n",
      " 11  HeartDisease    918 non-null    int64  \n",
      "dtypes: float64(1), int64(6), object(5)\n",
      "memory usage: 86.2+ KB\n"
     ]
    }
   ],
   "source": [
    "df.info() # checking variable types."
   ]
  },
  {
   "cell_type": "code",
   "execution_count": null,
   "metadata": {
    "_cell_guid": "1ed0c8c4-3d73-463e-90f9-42651952e509",
    "_uuid": "b6d08389-dac1-439f-b549-c23d1559fc9c",
    "collapsed": false,
    "execution": {
     "iopub.execute_input": "2023-01-18T12:26:00.269262Z",
     "iopub.status.busy": "2023-01-18T12:26:00.268798Z",
     "iopub.status.idle": "2023-01-18T12:26:00.281694Z",
     "shell.execute_reply": "2023-01-18T12:26:00.280143Z",
     "shell.execute_reply.started": "2023-01-18T12:26:00.269211Z"
    },
    "jupyter": {
     "outputs_hidden": false
    },
    "trusted": true
   },
   "outputs": [
    {
     "data": {
      "text/plain": [
       "Age               0\n",
       "Sex               0\n",
       "ChestPainType     0\n",
       "RestingBP         0\n",
       "Cholesterol       0\n",
       "FastingBS         0\n",
       "RestingECG        0\n",
       "MaxHR             0\n",
       "ExerciseAngina    0\n",
       "Oldpeak           0\n",
       "ST_Slope          0\n",
       "HeartDisease      0\n",
       "dtype: int64"
      ]
     },
     "execution_count": 6,
     "metadata": {},
     "output_type": "execute_result"
    }
   ],
   "source": [
    "df.isnull().sum() # Checking missing data"
   ]
  },
  {
   "cell_type": "code",
   "execution_count": null,
   "metadata": {
    "_cell_guid": "65d69b3f-5fce-42b7-af7c-a918be00bfc0",
    "_uuid": "bfeb8be2-27d4-481b-b624-3fcf60438531",
    "collapsed": false,
    "execution": {
     "iopub.execute_input": "2023-01-18T12:26:03.139280Z",
     "iopub.status.busy": "2023-01-18T12:26:03.138739Z",
     "iopub.status.idle": "2023-01-18T12:26:03.155017Z",
     "shell.execute_reply": "2023-01-18T12:26:03.153580Z",
     "shell.execute_reply.started": "2023-01-18T12:26:03.139218Z"
    },
    "jupyter": {
     "outputs_hidden": false
    },
    "trusted": true
   },
   "outputs": [
    {
     "data": {
      "text/plain": [
       "0"
      ]
     },
     "execution_count": 7,
     "metadata": {},
     "output_type": "execute_result"
    }
   ],
   "source": [
    "df.duplicated().sum() # Are there any duplicate values?"
   ]
  },
  {
   "cell_type": "code",
   "execution_count": null,
   "metadata": {
    "_cell_guid": "f51f7591-7b15-4149-afef-059dd5b1361c",
    "_uuid": "e27b5216-a100-48b3-a22f-689fef988748",
    "collapsed": false,
    "execution": {
     "iopub.execute_input": "2023-01-18T12:26:05.651222Z",
     "iopub.status.busy": "2023-01-18T12:26:05.650766Z",
     "iopub.status.idle": "2023-01-18T12:26:05.659737Z",
     "shell.execute_reply": "2023-01-18T12:26:05.658185Z",
     "shell.execute_reply.started": "2023-01-18T12:26:05.651189Z"
    },
    "jupyter": {
     "outputs_hidden": false
    },
    "trusted": true
   },
   "outputs": [
    {
     "data": {
      "text/plain": [
       "(918, 12)"
      ]
     },
     "execution_count": 8,
     "metadata": {},
     "output_type": "execute_result"
    }
   ],
   "source": [
    "df.shape  # Dataset content"
   ]
  },
  {
   "cell_type": "code",
   "execution_count": null,
   "metadata": {
    "_cell_guid": "967d13cc-e102-403f-8dcb-1b05ed29cc40",
    "_uuid": "2b3be3c5-a43c-44cf-a4b1-8dfbf8113559",
    "collapsed": false,
    "execution": {
     "iopub.execute_input": "2023-01-18T12:26:08.695970Z",
     "iopub.status.busy": "2023-01-18T12:26:08.695540Z",
     "iopub.status.idle": "2023-01-18T12:26:08.704742Z",
     "shell.execute_reply": "2023-01-18T12:26:08.703721Z",
     "shell.execute_reply.started": "2023-01-18T12:26:08.695938Z"
    },
    "jupyter": {
     "outputs_hidden": false
    },
    "trusted": true
   },
   "outputs": [
    {
     "data": {
      "text/plain": [
       "Index(['Age', 'Sex', 'ChestPainType', 'RestingBP', 'Cholesterol', 'FastingBS',\n",
       "       'RestingECG', 'MaxHR', 'ExerciseAngina', 'Oldpeak', 'ST_Slope',\n",
       "       'HeartDisease'],\n",
       "      dtype='object')"
      ]
     },
     "execution_count": 9,
     "metadata": {},
     "output_type": "execute_result"
    }
   ],
   "source": [
    "df.columns #column content"
   ]
  },
  {
   "cell_type": "markdown",
   "metadata": {
    "_cell_guid": "df444b21-13a2-431f-ae33-40ee96eb7fa9",
    "_uuid": "ce34a9ce-f7b1-4692-9608-f5144758288c",
    "trusted": true
   },
   "source": [
    "# We listed the categorical and numerical features in the dataset."
   ]
  },
  {
   "cell_type": "code",
   "execution_count": null,
   "metadata": {
    "_cell_guid": "454e57d0-68de-4f4e-8830-b5c10bd90153",
    "_uuid": "396bd318-4068-4dac-9e31-cd08ca1f99d4",
    "collapsed": false,
    "execution": {
     "iopub.execute_input": "2023-01-18T12:26:11.482050Z",
     "iopub.status.busy": "2023-01-18T12:26:11.481613Z",
     "iopub.status.idle": "2023-01-18T12:26:11.504943Z",
     "shell.execute_reply": "2023-01-18T12:26:11.503415Z",
     "shell.execute_reply.started": "2023-01-18T12:26:11.482007Z"
    },
    "jupyter": {
     "outputs_hidden": false
    },
    "trusted": true
   },
   "outputs": [
    {
     "name": "stdout",
     "output_type": "stream",
     "text": [
      "Categorical features:\n",
      "     Sex ChestPainType RestingECG ExerciseAngina ST_Slope\n",
      "0     M           ATA     Normal              N       Up\n",
      "1     F           NAP     Normal              N     Flat\n",
      "2     M           ATA         ST              N       Up\n",
      "3     F           ASY     Normal              Y     Flat\n",
      "4     M           NAP     Normal              N       Up\n",
      "..   ..           ...        ...            ...      ...\n",
      "913   M            TA     Normal              N     Flat\n",
      "914   M           ASY     Normal              N     Flat\n",
      "915   M           ASY     Normal              Y     Flat\n",
      "916   F           ATA        LVH              N     Flat\n",
      "917   M           NAP     Normal              N       Up\n",
      "\n",
      "[918 rows x 5 columns]\n",
      "Numerical features:\n",
      "      Age  RestingBP  Cholesterol  FastingBS  MaxHR  Oldpeak  HeartDisease\n",
      "0     40        140          289          0    172      0.0             0\n",
      "1     49        160          180          0    156      1.0             1\n",
      "2     37        130          283          0     98      0.0             0\n",
      "3     48        138          214          0    108      1.5             1\n",
      "4     54        150          195          0    122      0.0             0\n",
      "..   ...        ...          ...        ...    ...      ...           ...\n",
      "913   45        110          264          0    132      1.2             1\n",
      "914   68        144          193          1    141      3.4             1\n",
      "915   57        130          131          0    115      1.2             1\n",
      "916   57        130          236          0    174      0.0             1\n",
      "917   38        138          175          0    173      0.0             0\n",
      "\n",
      "[918 rows x 7 columns]\n"
     ]
    }
   ],
   "source": [
    "Categorical = df.select_dtypes(include=['object'])\n",
    "Numerical = df.select_dtypes(include=['int64', 'float64'])\n",
    "print('Categorical features:\\n', Categorical)\n",
    "print('Numerical features:\\n', Numerical)"
   ]
  },
  {
   "cell_type": "code",
   "execution_count": null,
   "metadata": {
    "_cell_guid": "e3869035-b385-413b-8fb2-398109af2710",
    "_uuid": "8a9c2f4f-6472-4faa-a418-987b749c5101",
    "collapsed": false,
    "execution": {
     "iopub.execute_input": "2023-01-18T12:26:15.277552Z",
     "iopub.status.busy": "2023-01-18T12:26:15.276540Z",
     "iopub.status.idle": "2023-01-18T12:26:15.287354Z",
     "shell.execute_reply": "2023-01-18T12:26:15.286187Z",
     "shell.execute_reply.started": "2023-01-18T12:26:15.277481Z"
    },
    "jupyter": {
     "outputs_hidden": false
    },
    "trusted": true
   },
   "outputs": [
    {
     "data": {
      "text/plain": [
       "1    508\n",
       "0    410\n",
       "Name: HeartDisease, dtype: int64"
      ]
     },
     "execution_count": 11,
     "metadata": {},
     "output_type": "execute_result"
    }
   ],
   "source": [
    "df['HeartDisease'].value_counts()"
   ]
  },
  {
   "cell_type": "markdown",
   "metadata": {
    "_cell_guid": "db35e8ca-4fe1-4d70-9327-02a7e84f22db",
    "_uuid": "981488c6-2b81-45bb-9537-f0ada49cc23a",
    "trusted": true
   },
   "source": [
    "Number of patients with heart disease versus those without"
   ]
  },
  {
   "cell_type": "markdown",
   "metadata": {
    "_cell_guid": "074f948e-0926-4cfd-9ae6-59e8651d441f",
    "_uuid": "271b07b2-7034-45f5-a7ee-8767c467218d",
    "trusted": true
   },
   "source": [
    "# We observe that the data set is balanced."
   ]
  },
  {
   "cell_type": "code",
   "execution_count": null,
   "metadata": {
    "_cell_guid": "9fa0002a-1471-4447-b2e1-a82ee899c157",
    "_uuid": "b56b3702-b5fc-441c-9929-2a2aa05fdccd",
    "collapsed": false,
    "execution": {
     "iopub.execute_input": "2023-01-18T12:26:23.710417Z",
     "iopub.status.busy": "2023-01-18T12:26:23.709929Z",
     "iopub.status.idle": "2023-01-18T12:26:23.878340Z",
     "shell.execute_reply": "2023-01-18T12:26:23.876565Z",
     "shell.execute_reply.started": "2023-01-18T12:26:23.710379Z"
    },
    "jupyter": {
     "outputs_hidden": false
    },
    "trusted": true
   },
   "outputs": [
    {
     "data": {
      "image/png": "[encoded data removed]",
      "text/plain": [
       "<Figure size 720x360 with 1 Axes>"
      ]
     },
     "metadata": {},
     "output_type": "display_data"
    }
   ],
   "source": [
    "plt.figure(figsize=(10,5))\n",
    "plt.pie(df['HeartDisease'].value_counts(), labels=['Heart Disease[1]', 'Normal[0]'], autopct='%1.1f%%')\n",
    "plt.show()"
   ]
  },
  {
   "cell_type": "code",
   "execution_count": null,
   "metadata": {
    "_cell_guid": "e3b521f7-beb7-4090-b774-52dec4d7b1e0",
    "_uuid": "ca6130ab-39c5-42f3-bdd6-86300d6f8313",
    "collapsed": false,
    "execution": {
     "iopub.execute_input": "2023-01-18T12:26:28.133345Z",
     "iopub.status.busy": "2023-01-18T12:26:28.132743Z",
     "iopub.status.idle": "2023-01-18T12:26:28.148430Z",
     "shell.execute_reply": "2023-01-18T12:26:28.146866Z",
     "shell.execute_reply.started": "2023-01-18T12:26:28.133307Z"
    },
    "jupyter": {
     "outputs_hidden": false
    },
    "trusted": true
   },
   "outputs": [
    {
     "data": {
      "text/plain": [
       "Age             0.282039\n",
       "RestingBP       0.107589\n",
       "Cholesterol    -0.232741\n",
       "FastingBS       0.267291\n",
       "MaxHR          -0.400421\n",
       "Oldpeak         0.403951\n",
       "HeartDisease    1.000000\n",
       "Name: HeartDisease, dtype: float64"
      ]
     },
     "execution_count": 13,
     "metadata": {},
     "output_type": "execute_result"
    }
   ],
   "source": [
    "corr_matx=df.corr()\n",
    "corr_matx['HeartDisease']"
   ]
  },
  {
   "cell_type": "markdown",
   "metadata": {
    "_cell_guid": "a8035199-2152-47fb-a0e9-e035b39a276d",
    "_uuid": "8b809cc1-3c73-437c-b2e4-049a790ca927",
    "trusted": true
   },
   "source": [
    " We looked at the correlation coefficients between the numerical characteristics of the patients and the HeartDisease target column"
   ]
  },
  {
   "cell_type": "markdown",
   "metadata": {
    "_cell_guid": "6dae96a3-779b-45e0-aca6-1a6ab3b958ef",
    "_uuid": "81350448-58a8-40f3-bc89-b0e8b64e0666",
    "trusted": true
   },
   "source": [
    "Here we observe that all numerical features are strongly associated with the presence of heart disease."
   ]
  },
  {
   "cell_type": "code",
   "execution_count": null,
   "metadata": {
    "_cell_guid": "d71ce69e-ffa6-418b-9b2e-73c2f428f57f",
    "_uuid": "873b04ab-ff74-4ee1-b563-5ed98d86bdbd",
    "collapsed": false,
    "execution": {
     "iopub.execute_input": "2023-01-18T12:26:31.510459Z",
     "iopub.status.busy": "2023-01-18T12:26:31.509072Z",
     "iopub.status.idle": "2023-01-18T12:26:31.517150Z",
     "shell.execute_reply": "2023-01-18T12:26:31.515128Z",
     "shell.execute_reply.started": "2023-01-18T12:26:31.510413Z"
    },
    "jupyter": {
     "outputs_hidden": false
    },
    "trusted": true
   },
   "outputs": [],
   "source": [
    "# The categorical data was digitized.\n",
    "from sklearn import preprocessing\n",
    "from sklearn.preprocessing import LabelEncoder\n",
    "label_encoder=preprocessing.LabelEncoder()"
   ]
  },
  {
   "cell_type": "markdown",
   "metadata": {
    "_cell_guid": "28f14091-543b-4885-aba6-4055c083d246",
    "_uuid": "57e5ce7a-0566-49fe-a4f3-b5ac051bf442",
    "trusted": true
   },
   "source": [
    "# Categorical data was digitized."
   ]
  },
  {
   "cell_type": "code",
   "execution_count": null,
   "metadata": {
    "_cell_guid": "e8b5bab2-8216-4919-8ba8-6d482b8ab8c4",
    "_uuid": "c20a9e82-acc8-4fdd-953c-7181dcf5ac6d",
    "collapsed": false,
    "execution": {
     "iopub.execute_input": "2023-01-18T12:26:34.347599Z",
     "iopub.status.busy": "2023-01-18T12:26:34.346472Z",
     "iopub.status.idle": "2023-01-18T12:26:34.359339Z",
     "shell.execute_reply": "2023-01-18T12:26:34.357465Z",
     "shell.execute_reply.started": "2023-01-18T12:26:34.347557Z"
    },
    "jupyter": {
     "outputs_hidden": false
    },
    "trusted": true
   },
   "outputs": [],
   "source": [
    "df['Sex']= label_encoder.fit_transform (df['Sex'])\n",
    "df['ChestPainType']= label_encoder.fit_transform (df['ChestPainType'])\n",
    "df['RestingECG']= label_encoder.fit_transform (df['RestingECG'])\n",
    "df['ExerciseAngina']= label_encoder.fit_transform (df['ExerciseAngina'])\n",
    "df['ST_Slope']= label_encoder.fit_transform (df['ST_Slope'])"
   ]
  },
  {
   "cell_type": "code",
   "execution_count": null,
   "metadata": {
    "_cell_guid": "a604e428-bff2-41b9-9c4c-bbc9e0ff9376",
    "_uuid": "54085ab7-ce92-49bb-a594-cbbfdc4c2ed3",
    "collapsed": false,
    "execution": {
     "iopub.execute_input": "2023-01-18T12:26:37.158078Z",
     "iopub.status.busy": "2023-01-18T12:26:37.157591Z",
     "iopub.status.idle": "2023-01-18T12:26:37.175544Z",
     "shell.execute_reply": "2023-01-18T12:26:37.174111Z",
     "shell.execute_reply.started": "2023-01-18T12:26:37.158040Z"
    },
    "jupyter": {
     "outputs_hidden": false
    },
    "trusted": true
   },
   "outputs": [
    {
     "data": {
      "text/html": [
       "<div>\n",
       "<style scoped>\n",
       "    .dataframe tbody tr th:only-of-type {\n",
       "        vertical-align: middle;\n",
       "    }\n",
       "\n",
       "    .dataframe tbody tr th {\n",
       "        vertical-align: top;\n",
       "    }\n",
       "\n",
       "    .dataframe thead th {\n",
       "        text-align: right;\n",
       "    }\n",
       "</style>\n",
       "<table border=\"1\" class=\"dataframe\">\n",
       "  <thead>\n",
       "    <tr style=\"text-align: right;\">\n",
       "      <th></th>\n",
       "      <th>Age</th>\n",
       "      <th>Sex</th>\n",
       "      <th>ChestPainType</th>\n",
       "      <th>RestingBP</th>\n",
       "      <th>Cholesterol</th>\n",
       "      <th>FastingBS</th>\n",
       "      <th>RestingECG</th>\n",
       "      <th>MaxHR</th>\n",
       "      <th>ExerciseAngina</th>\n",
       "      <th>Oldpeak</th>\n",
       "      <th>ST_Slope</th>\n",
       "      <th>HeartDisease</th>\n",
       "    </tr>\n",
       "  </thead>\n",
       "  <tbody>\n",
       "    <tr>\n",
       "      <th>0</th>\n",
       "      <td>40</td>\n",
       "      <td>1</td>\n",
       "      <td>1</td>\n",
       "      <td>140</td>\n",
       "      <td>289</td>\n",
       "      <td>0</td>\n",
       "      <td>1</td>\n",
       "      <td>172</td>\n",
       "      <td>0</td>\n",
       "      <td>0.0</td>\n",
       "      <td>2</td>\n",
       "      <td>0</td>\n",
       "    </tr>\n",
       "    <tr>\n",
       "      <th>1</th>\n",
       "      <td>49</td>\n",
       "      <td>0</td>\n",
       "      <td>2</td>\n",
       "      <td>160</td>\n",
       "      <td>180</td>\n",
       "      <td>0</td>\n",
       "      <td>1</td>\n",
       "      <td>156</td>\n",
       "      <td>0</td>\n",
       "      <td>1.0</td>\n",
       "      <td>1</td>\n",
       "      <td>1</td>\n",
       "    </tr>\n",
       "    <tr>\n",
       "      <th>2</th>\n",
       "      <td>37</td>\n",
       "      <td>1</td>\n",
       "      <td>1</td>\n",
       "      <td>130</td>\n",
       "      <td>283</td>\n",
       "      <td>0</td>\n",
       "      <td>2</td>\n",
       "      <td>98</td>\n",
       "      <td>0</td>\n",
       "      <td>0.0</td>\n",
       "      <td>2</td>\n",
       "      <td>0</td>\n",
       "    </tr>\n",
       "    <tr>\n",
       "      <th>3</th>\n",
       "      <td>48</td>\n",
       "      <td>0</td>\n",
       "      <td>0</td>\n",
       "      <td>138</td>\n",
       "      <td>214</td>\n",
       "      <td>0</td>\n",
       "      <td>1</td>\n",
       "      <td>108</td>\n",
       "      <td>1</td>\n",
       "      <td>1.5</td>\n",
       "      <td>1</td>\n",
       "      <td>1</td>\n",
       "    </tr>\n",
       "    <tr>\n",
       "      <th>4</th>\n",
       "      <td>54</td>\n",
       "      <td>1</td>\n",
       "      <td>2</td>\n",
       "      <td>150</td>\n",
       "      <td>195</td>\n",
       "      <td>0</td>\n",
       "      <td>1</td>\n",
       "      <td>122</td>\n",
       "      <td>0</td>\n",
       "      <td>0.0</td>\n",
       "      <td>2</td>\n",
       "      <td>0</td>\n",
       "    </tr>\n",
       "  </tbody>\n",
       "</table>\n",
       "</div>"
      ],
      "text/plain": [
       "   Age  Sex  ChestPainType  RestingBP  Cholesterol  FastingBS  RestingECG  \\\n",
       "0   40    1              1        140          289          0           1   \n",
       "1   49    0              2        160          180          0           1   \n",
       "2   37    1              1        130          283          0           2   \n",
       "3   48    0              0        138          214          0           1   \n",
       "4   54    1              2        150          195          0           1   \n",
       "\n",
       "   MaxHR  ExerciseAngina  Oldpeak  ST_Slope  HeartDisease  \n",
       "0    172               0      0.0         2             0  \n",
       "1    156               0      1.0         1             1  \n",
       "2     98               0      0.0         2             0  \n",
       "3    108               1      1.5         1             1  \n",
       "4    122               0      0.0         2             0  "
      ]
     },
     "execution_count": 16,
     "metadata": {},
     "output_type": "execute_result"
    }
   ],
   "source": [
    "df.head()  #We digitized categorical data."
   ]
  },
  {
   "cell_type": "markdown",
   "metadata": {
    "_cell_guid": "34ffce4b-42b2-4adf-94e7-ca1298ae8cb1",
    "_uuid": "2d3d4f33-169f-4207-814a-496b66192f1f",
    "trusted": true
   },
   "source": [
    "# Normalization Process"
   ]
  },
  {
   "cell_type": "markdown",
   "metadata": {
    "_cell_guid": "97bccc7e-73fe-4585-8b6e-0cbe068fc3b0",
    "_uuid": "1e75fcf2-fffa-4c24-8960-8525441e8342",
    "trusted": true
   },
   "source": [
    "We perform normalization to bring the data closer to the values ​​of 0 and 1."
   ]
  },
  {
   "cell_type": "code",
   "execution_count": null,
   "metadata": {
    "_cell_guid": "58e6dfec-9221-438b-b49f-e1b939b76e0a",
    "_uuid": "efed7c89-5272-4bf7-b35f-f5903ab4f95c",
    "collapsed": false,
    "execution": {
     "iopub.execute_input": "2023-01-18T12:26:40.846077Z",
     "iopub.status.busy": "2023-01-18T12:26:40.845575Z",
     "iopub.status.idle": "2023-01-18T12:26:40.876656Z",
     "shell.execute_reply": "2023-01-18T12:26:40.875593Z",
     "shell.execute_reply.started": "2023-01-18T12:26:40.846039Z"
    },
    "jupyter": {
     "outputs_hidden": false
    },
    "trusted": true
   },
   "outputs": [
    {
     "data": {
      "text/html": [
       "<div>\n",
       "<style scoped>\n",
       "    .dataframe tbody tr th:only-of-type {\n",
       "        vertical-align: middle;\n",
       "    }\n",
       "\n",
       "    .dataframe tbody tr th {\n",
       "        vertical-align: top;\n",
       "    }\n",
       "\n",
       "    .dataframe thead th {\n",
       "        text-align: right;\n",
       "    }\n",
       "</style>\n",
       "<table border=\"1\" class=\"dataframe\">\n",
       "  <thead>\n",
       "    <tr style=\"text-align: right;\">\n",
       "      <th></th>\n",
       "      <th>Age</th>\n",
       "      <th>Sex</th>\n",
       "      <th>ChestPainType</th>\n",
       "      <th>RestingBP</th>\n",
       "      <th>Cholesterol</th>\n",
       "      <th>FastingBS</th>\n",
       "      <th>RestingECG</th>\n",
       "      <th>MaxHR</th>\n",
       "      <th>ExerciseAngina</th>\n",
       "      <th>Oldpeak</th>\n",
       "      <th>ST_Slope</th>\n",
       "      <th>HeartDisease</th>\n",
       "    </tr>\n",
       "  </thead>\n",
       "  <tbody>\n",
       "    <tr>\n",
       "      <th>0</th>\n",
       "      <td>-1.433140</td>\n",
       "      <td>1</td>\n",
       "      <td>1</td>\n",
       "      <td>0.410909</td>\n",
       "      <td>0.825070</td>\n",
       "      <td>0</td>\n",
       "      <td>1</td>\n",
       "      <td>1.382928</td>\n",
       "      <td>0</td>\n",
       "      <td>-0.832432</td>\n",
       "      <td>2</td>\n",
       "      <td>0</td>\n",
       "    </tr>\n",
       "    <tr>\n",
       "      <th>1</th>\n",
       "      <td>-0.478484</td>\n",
       "      <td>0</td>\n",
       "      <td>2</td>\n",
       "      <td>1.491752</td>\n",
       "      <td>-0.171961</td>\n",
       "      <td>0</td>\n",
       "      <td>1</td>\n",
       "      <td>0.754157</td>\n",
       "      <td>0</td>\n",
       "      <td>0.105664</td>\n",
       "      <td>1</td>\n",
       "      <td>1</td>\n",
       "    </tr>\n",
       "    <tr>\n",
       "      <th>2</th>\n",
       "      <td>-1.751359</td>\n",
       "      <td>1</td>\n",
       "      <td>1</td>\n",
       "      <td>-0.129513</td>\n",
       "      <td>0.770188</td>\n",
       "      <td>0</td>\n",
       "      <td>2</td>\n",
       "      <td>-1.525138</td>\n",
       "      <td>0</td>\n",
       "      <td>-0.832432</td>\n",
       "      <td>2</td>\n",
       "      <td>0</td>\n",
       "    </tr>\n",
       "    <tr>\n",
       "      <th>3</th>\n",
       "      <td>-0.584556</td>\n",
       "      <td>0</td>\n",
       "      <td>0</td>\n",
       "      <td>0.302825</td>\n",
       "      <td>0.139040</td>\n",
       "      <td>0</td>\n",
       "      <td>1</td>\n",
       "      <td>-1.132156</td>\n",
       "      <td>1</td>\n",
       "      <td>0.574711</td>\n",
       "      <td>1</td>\n",
       "      <td>1</td>\n",
       "    </tr>\n",
       "    <tr>\n",
       "      <th>4</th>\n",
       "      <td>0.051881</td>\n",
       "      <td>1</td>\n",
       "      <td>2</td>\n",
       "      <td>0.951331</td>\n",
       "      <td>-0.034755</td>\n",
       "      <td>0</td>\n",
       "      <td>1</td>\n",
       "      <td>-0.581981</td>\n",
       "      <td>0</td>\n",
       "      <td>-0.832432</td>\n",
       "      <td>2</td>\n",
       "      <td>0</td>\n",
       "    </tr>\n",
       "  </tbody>\n",
       "</table>\n",
       "</div>"
      ],
      "text/plain": [
       "        Age  Sex  ChestPainType  RestingBP  Cholesterol  FastingBS  \\\n",
       "0 -1.433140    1              1   0.410909     0.825070          0   \n",
       "1 -0.478484    0              2   1.491752    -0.171961          0   \n",
       "2 -1.751359    1              1  -0.129513     0.770188          0   \n",
       "3 -0.584556    0              0   0.302825     0.139040          0   \n",
       "4  0.051881    1              2   0.951331    -0.034755          0   \n",
       "\n",
       "   RestingECG     MaxHR  ExerciseAngina   Oldpeak  ST_Slope  HeartDisease  \n",
       "0           1  1.382928               0 -0.832432         2             0  \n",
       "1           1  0.754157               0  0.105664         1             1  \n",
       "2           2 -1.525138               0 -0.832432         2             0  \n",
       "3           1 -1.132156               1  0.574711         1             1  \n",
       "4           1 -0.581981               0 -0.832432         2             0  "
      ]
     },
     "execution_count": 17,
     "metadata": {},
     "output_type": "execute_result"
    }
   ],
   "source": [
    "from sklearn.preprocessing import StandardScaler\n",
    "scaler = StandardScaler()\n",
    "df[['Age','RestingBP','Cholesterol','MaxHR','Oldpeak']] = scaler.fit_transform(df[['Age','RestingBP','Cholesterol','MaxHR','Oldpeak']])\n",
    "df.head()"
   ]
  },
  {
   "cell_type": "markdown",
   "metadata": {
    "_cell_guid": "32a4f37c-a2d5-4eaf-9601-3c7ae1fd2804",
    "_uuid": "4d6fe333-cec3-4f21-b9d8-4c1af8f218fa",
    "trusted": true
   },
   "source": [
    "# Splitting the Dataset"
   ]
  },
  {
   "cell_type": "code",
   "execution_count": null,
   "metadata": {
    "_cell_guid": "bca314d8-71fe-4f52-91f9-bd5d9f66443b",
    "_uuid": "9b64eed0-da58-45f8-83c6-4142bbe7c471",
    "collapsed": false,
    "execution": {
     "iopub.execute_input": "2023-01-18T12:26:43.801526Z",
     "iopub.status.busy": "2023-01-18T12:26:43.801068Z",
     "iopub.status.idle": "2023-01-18T12:26:43.810805Z",
     "shell.execute_reply": "2023-01-18T12:26:43.809371Z",
     "shell.execute_reply.started": "2023-01-18T12:26:43.801491Z"
    },
    "jupyter": {
     "outputs_hidden": false
    },
    "trusted": true
   },
   "outputs": [],
   "source": [
    "x=df.drop(['HeartDisease'], axis=1) # Unlabeled data\n",
    "y=df['HeartDisease'] #Label"
   ]
  },
  {
   "cell_type": "code",
   "execution_count": null,
   "metadata": {
    "_cell_guid": "57a481bd-c185-4ed7-b95e-ba019b1fce7f",
    "_uuid": "998443e7-4e1f-40b7-b7a4-298dc5e90fda",
    "collapsed": false,
    "execution": {
     "iopub.execute_input": "2023-01-18T12:26:46.248796Z",
     "iopub.status.busy": "2023-01-18T12:26:46.248347Z",
     "iopub.status.idle": "2023-01-18T12:26:46.274563Z",
     "shell.execute_reply": "2023-01-18T12:26:46.273107Z",
     "shell.execute_reply.started": "2023-01-18T12:26:46.248762Z"
    },
    "jupyter": {
     "outputs_hidden": false
    },
    "trusted": true
   },
   "outputs": [
    {
     "data": {
      "text/html": [
       "<div>\n",
       "<style scoped>\n",
       "    .dataframe tbody tr th:only-of-type {\n",
       "        vertical-align: middle;\n",
       "    }\n",
       "\n",
       "    .dataframe tbody tr th {\n",
       "        vertical-align: top;\n",
       "    }\n",
       "\n",
       "    .dataframe thead th {\n",
       "        text-align: right;\n",
       "    }\n",
       "</style>\n",
       "<table border=\"1\" class=\"dataframe\">\n",
       "  <thead>\n",
       "    <tr style=\"text-align: right;\">\n",
       "      <th></th>\n",
       "      <th>Age</th>\n",
       "      <th>Sex</th>\n",
       "      <th>ChestPainType</th>\n",
       "      <th>RestingBP</th>\n",
       "      <th>Cholesterol</th>\n",
       "      <th>FastingBS</th>\n",
       "      <th>RestingECG</th>\n",
       "      <th>MaxHR</th>\n",
       "      <th>ExerciseAngina</th>\n",
       "      <th>Oldpeak</th>\n",
       "      <th>ST_Slope</th>\n",
       "    </tr>\n",
       "  </thead>\n",
       "  <tbody>\n",
       "    <tr>\n",
       "      <th>0</th>\n",
       "      <td>-1.433140</td>\n",
       "      <td>1</td>\n",
       "      <td>1</td>\n",
       "      <td>0.410909</td>\n",
       "      <td>0.825070</td>\n",
       "      <td>0</td>\n",
       "      <td>1</td>\n",
       "      <td>1.382928</td>\n",
       "      <td>0</td>\n",
       "      <td>-0.832432</td>\n",
       "      <td>2</td>\n",
       "    </tr>\n",
       "    <tr>\n",
       "      <th>1</th>\n",
       "      <td>-0.478484</td>\n",
       "      <td>0</td>\n",
       "      <td>2</td>\n",
       "      <td>1.491752</td>\n",
       "      <td>-0.171961</td>\n",
       "      <td>0</td>\n",
       "      <td>1</td>\n",
       "      <td>0.754157</td>\n",
       "      <td>0</td>\n",
       "      <td>0.105664</td>\n",
       "      <td>1</td>\n",
       "    </tr>\n",
       "    <tr>\n",
       "      <th>2</th>\n",
       "      <td>-1.751359</td>\n",
       "      <td>1</td>\n",
       "      <td>1</td>\n",
       "      <td>-0.129513</td>\n",
       "      <td>0.770188</td>\n",
       "      <td>0</td>\n",
       "      <td>2</td>\n",
       "      <td>-1.525138</td>\n",
       "      <td>0</td>\n",
       "      <td>-0.832432</td>\n",
       "      <td>2</td>\n",
       "    </tr>\n",
       "    <tr>\n",
       "      <th>3</th>\n",
       "      <td>-0.584556</td>\n",
       "      <td>0</td>\n",
       "      <td>0</td>\n",
       "      <td>0.302825</td>\n",
       "      <td>0.139040</td>\n",
       "      <td>0</td>\n",
       "      <td>1</td>\n",
       "      <td>-1.132156</td>\n",
       "      <td>1</td>\n",
       "      <td>0.574711</td>\n",
       "      <td>1</td>\n",
       "    </tr>\n",
       "    <tr>\n",
       "      <th>4</th>\n",
       "      <td>0.051881</td>\n",
       "      <td>1</td>\n",
       "      <td>2</td>\n",
       "      <td>0.951331</td>\n",
       "      <td>-0.034755</td>\n",
       "      <td>0</td>\n",
       "      <td>1</td>\n",
       "      <td>-0.581981</td>\n",
       "      <td>0</td>\n",
       "      <td>-0.832432</td>\n",
       "      <td>2</td>\n",
       "    </tr>\n",
       "    <tr>\n",
       "      <th>...</th>\n",
       "      <td>...</td>\n",
       "      <td>...</td>\n",
       "      <td>...</td>\n",
       "      <td>...</td>\n",
       "      <td>...</td>\n",
       "      <td>...</td>\n",
       "      <td>...</td>\n",
       "      <td>...</td>\n",
       "      <td>...</td>\n",
       "      <td>...</td>\n",
       "      <td>...</td>\n",
       "    </tr>\n",
       "    <tr>\n",
       "      <th>913</th>\n",
       "      <td>-0.902775</td>\n",
       "      <td>1</td>\n",
       "      <td>3</td>\n",
       "      <td>-1.210356</td>\n",
       "      <td>0.596393</td>\n",
       "      <td>0</td>\n",
       "      <td>1</td>\n",
       "      <td>-0.188999</td>\n",
       "      <td>0</td>\n",
       "      <td>0.293283</td>\n",
       "      <td>1</td>\n",
       "    </tr>\n",
       "    <tr>\n",
       "      <th>914</th>\n",
       "      <td>1.536902</td>\n",
       "      <td>1</td>\n",
       "      <td>0</td>\n",
       "      <td>0.627078</td>\n",
       "      <td>-0.053049</td>\n",
       "      <td>1</td>\n",
       "      <td>1</td>\n",
       "      <td>0.164684</td>\n",
       "      <td>0</td>\n",
       "      <td>2.357094</td>\n",
       "      <td>1</td>\n",
       "    </tr>\n",
       "    <tr>\n",
       "      <th>915</th>\n",
       "      <td>0.370100</td>\n",
       "      <td>1</td>\n",
       "      <td>0</td>\n",
       "      <td>-0.129513</td>\n",
       "      <td>-0.620168</td>\n",
       "      <td>0</td>\n",
       "      <td>1</td>\n",
       "      <td>-0.857069</td>\n",
       "      <td>1</td>\n",
       "      <td>0.293283</td>\n",
       "      <td>1</td>\n",
       "    </tr>\n",
       "    <tr>\n",
       "      <th>916</th>\n",
       "      <td>0.370100</td>\n",
       "      <td>0</td>\n",
       "      <td>1</td>\n",
       "      <td>-0.129513</td>\n",
       "      <td>0.340275</td>\n",
       "      <td>0</td>\n",
       "      <td>0</td>\n",
       "      <td>1.461525</td>\n",
       "      <td>0</td>\n",
       "      <td>-0.832432</td>\n",
       "      <td>1</td>\n",
       "    </tr>\n",
       "    <tr>\n",
       "      <th>917</th>\n",
       "      <td>-1.645286</td>\n",
       "      <td>1</td>\n",
       "      <td>2</td>\n",
       "      <td>0.302825</td>\n",
       "      <td>-0.217696</td>\n",
       "      <td>0</td>\n",
       "      <td>1</td>\n",
       "      <td>1.422226</td>\n",
       "      <td>0</td>\n",
       "      <td>-0.832432</td>\n",
       "      <td>2</td>\n",
       "    </tr>\n",
       "  </tbody>\n",
       "</table>\n",
       "<p>918 rows × 11 columns</p>\n",
       "</div>"
      ],
      "text/plain": [
       "          Age  Sex  ChestPainType  RestingBP  Cholesterol  FastingBS  \\\n",
       "0   -1.433140    1              1   0.410909     0.825070          0   \n",
       "1   -0.478484    0              2   1.491752    -0.171961          0   \n",
       "2   -1.751359    1              1  -0.129513     0.770188          0   \n",
       "3   -0.584556    0              0   0.302825     0.139040          0   \n",
       "4    0.051881    1              2   0.951331    -0.034755          0   \n",
       "..        ...  ...            ...        ...          ...        ...   \n",
       "913 -0.902775    1              3  -1.210356     0.596393          0   \n",
       "914  1.536902    1              0   0.627078    -0.053049          1   \n",
       "915  0.370100    1              0  -0.129513    -0.620168          0   \n",
       "916  0.370100    0              1  -0.129513     0.340275          0   \n",
       "917 -1.645286    1              2   0.302825    -0.217696          0   \n",
       "\n",
       "     RestingECG     MaxHR  ExerciseAngina   Oldpeak  ST_Slope  \n",
       "0             1  1.382928               0 -0.832432         2  \n",
       "1             1  0.754157               0  0.105664         1  \n",
       "2             2 -1.525138               0 -0.832432         2  \n",
       "3             1 -1.132156               1  0.574711         1  \n",
       "4             1 -0.581981               0 -0.832432         2  \n",
       "..          ...       ...             ...       ...       ...  \n",
       "913           1 -0.188999               0  0.293283         1  \n",
       "914           1  0.164684               0  2.357094         1  \n",
       "915           1 -0.857069               1  0.293283         1  \n",
       "916           0  1.461525               0 -0.832432         1  \n",
       "917           1  1.422226               0 -0.832432         2  \n",
       "\n",
       "[918 rows x 11 columns]"
      ]
     },
     "execution_count": 19,
     "metadata": {},
     "output_type": "execute_result"
    }
   ],
   "source": [
    "x #Unlabeled Data"
   ]
  },
  {
   "cell_type": "code",
   "execution_count": null,
   "metadata": {
    "_cell_guid": "741d822d-e596-45d9-b302-a0ea5cca10af",
    "_uuid": "6893f4e7-7f43-4211-a58b-c2d015029b88",
    "collapsed": false,
    "execution": {
     "iopub.execute_input": "2023-01-18T12:26:49.108134Z",
     "iopub.status.busy": "2023-01-18T12:26:49.106904Z",
     "iopub.status.idle": "2023-01-18T12:26:49.118866Z",
     "shell.execute_reply": "2023-01-18T12:26:49.117452Z",
     "shell.execute_reply.started": "2023-01-18T12:26:49.108084Z"
    },
    "jupyter": {
     "outputs_hidden": false
    },
    "trusted": true
   },
   "outputs": [
    {
     "data": {
      "text/plain": [
       "0      0\n",
       "1      1\n",
       "2      0\n",
       "3      1\n",
       "4      0\n",
       "      ..\n",
       "913    1\n",
       "914    1\n",
       "915    1\n",
       "916    1\n",
       "917    0\n",
       "Name: HeartDisease, Length: 918, dtype: int64"
      ]
     },
     "execution_count": 20,
     "metadata": {},
     "output_type": "execute_result"
    }
   ],
   "source": [
    "y #Tagged Data (Heart Disease)"
   ]
  },
  {
   "cell_type": "markdown",
   "metadata": {
    "_cell_guid": "310a1dad-b359-4a5e-9f2a-632e38e39443",
    "_uuid": "f6c0fdf5-9bbd-4325-a4a8-c5f85b361092",
    "trusted": true
   },
   "source": [
    "# X_train , y_train , X_test , y_test and val division -"
   ]
  },
  {
   "cell_type": "code",
   "execution_count": null,
   "metadata": {
    "_cell_guid": "de25c1ab-3fa9-4277-8753-4a022121c529",
    "_uuid": "4bd9cb8e-dfca-49d7-9af0-ce458bc3497d",
    "collapsed": false,
    "execution": {
     "iopub.execute_input": "2023-01-18T12:26:52.044650Z",
     "iopub.status.busy": "2023-01-18T12:26:52.044213Z",
     "iopub.status.idle": "2023-01-18T12:26:52.055224Z",
     "shell.execute_reply": "2023-01-18T12:26:52.054327Z",
     "shell.execute_reply.started": "2023-01-18T12:26:52.044616Z"
    },
    "jupyter": {
     "outputs_hidden": false
    },
    "trusted": true
   },
   "outputs": [],
   "source": [
    "from sklearn.model_selection import train_test_split\n",
    "x_train, x_test, y_train, y_test = train_test_split(\n",
    "    x, y, test_size=0.2, random_state=1)\n",
    "x_train, x_val, y_train, y_val = train_test_split(\n",
    "    x_train, y_train, test_size=0.25, random_state=1)"
   ]
  },
  {
   "cell_type": "markdown",
   "metadata": {
    "_cell_guid": "e6e7c749-5cda-42c6-9b5c-4636faed70fd",
    "_uuid": "4b20722d-b6ad-4a0d-83d6-87b19f1b4008",
    "trusted": true
   },
   "source": [
    "# 1. Implementation of Logistic Regression Algorithm"
   ]
  },
  {
   "cell_type": "markdown",
   "metadata": {},
   "source": [
    "Logistic regression is a data analysis technique that uses mathematics to find relationships between two data factors. Logistic regression then uses this relationship to predict the value of one of those factors based on the other."
   ]
  },
  {
   "cell_type": "code",
   "execution_count": null,
   "metadata": {
    "_cell_guid": "bd395838-f392-4e90-8c10-2bb3b75bb4f7",
    "_uuid": "110d6f15-104c-44b4-8d71-5c6b71e3fd74",
    "collapsed": false,
    "execution": {
     "iopub.execute_input": "2023-01-18T12:26:55.267014Z",
     "iopub.status.busy": "2023-01-18T12:26:55.266560Z",
     "iopub.status.idle": "2023-01-18T12:26:55.273421Z",
     "shell.execute_reply": "2023-01-18T12:26:55.271375Z",
     "shell.execute_reply.started": "2023-01-18T12:26:55.266979Z"
    },
    "jupyter": {
     "outputs_hidden": false
    },
    "trusted": true
   },
   "outputs": [],
   "source": [
    "from sklearn.linear_model import LogisticRegression\n",
    "log=LogisticRegression(random_state=0) #yöntemi ekleme"
   ]
  },
  {
   "cell_type": "markdown",
   "metadata": {},
   "source": [
    "random_state : takes integer value. It is used to always get the same results from randomly distributed data."
   ]
  },
  {
   "cell_type": "code",
   "execution_count": null,
   "metadata": {
    "_cell_guid": "1c0aa8e5-54df-4eb2-a347-53b137b8d2c1",
    "_uuid": "ff1f0bac-ae9d-4bf7-8bd2-1819c06911d4",
    "collapsed": false,
    "execution": {
     "iopub.execute_input": "2023-01-18T12:26:57.829320Z",
     "iopub.status.busy": "2023-01-18T12:26:57.828852Z",
     "iopub.status.idle": "2023-01-18T12:26:57.850545Z",
     "shell.execute_reply": "2023-01-18T12:26:57.849667Z",
     "shell.execute_reply.started": "2023-01-18T12:26:57.829283Z"
    },
    "jupyter": {
     "outputs_hidden": false
    },
    "trusted": true
   },
   "outputs": [
    {
     "data": {
      "text/plain": [
       "LogisticRegression(random_state=0)"
      ]
     },
     "execution_count": 23,
     "metadata": {},
     "output_type": "execute_result"
    }
   ],
   "source": [
    "log.fit(x_train, y_train)"
   ]
  },
  {
   "cell_type": "code",
   "execution_count": null,
   "metadata": {
    "_cell_guid": "7f7a8894-6094-4d4e-a600-0ddd1d9a3aaa",
    "_uuid": "3c4b6873-1eb3-4aaa-8b07-58f91760431c",
    "collapsed": false,
    "execution": {
     "iopub.execute_input": "2023-01-18T12:27:00.408955Z",
     "iopub.status.busy": "2023-01-18T12:27:00.407996Z",
     "iopub.status.idle": "2023-01-18T12:27:00.416920Z",
     "shell.execute_reply": "2023-01-18T12:27:00.415446Z",
     "shell.execute_reply.started": "2023-01-18T12:27:00.408918Z"
    },
    "jupyter": {
     "outputs_hidden": false
    },
    "trusted": true
   },
   "outputs": [],
   "source": [
    "y_pred=log.predict(x_test)"
   ]
  },
  {
   "cell_type": "code",
   "execution_count": null,
   "metadata": {
    "_cell_guid": "0cbfe5d2-3060-4006-a6af-70fda8db1d48",
    "_uuid": "db981fe5-be8f-44aa-b22f-263bbdbc3a3e",
    "collapsed": false,
    "execution": {
     "iopub.execute_input": "2023-01-18T12:27:03.431408Z",
     "iopub.status.busy": "2023-01-18T12:27:03.430903Z",
     "iopub.status.idle": "2023-01-18T12:27:03.442473Z",
     "shell.execute_reply": "2023-01-18T12:27:03.441457Z",
     "shell.execute_reply.started": "2023-01-18T12:27:03.431367Z"
    },
    "jupyter": {
     "outputs_hidden": false
    },
    "trusted": true
   },
   "outputs": [
    {
     "name": "stdout",
     "output_type": "stream",
     "text": [
      "[[66 12]\n",
      " [ 8 98]]\n"
     ]
    }
   ],
   "source": [
    "# Confusion matrix display\n",
    "cm=confusion_matrix(y_pred, y_test)\n",
    "print(cm)"
   ]
  },
  {
   "cell_type": "code",
   "execution_count": null,
   "metadata": {
    "_cell_guid": "68e0a8d8-e133-4f2b-a692-f97828ed179c",
    "_uuid": "ae6058ce-21b5-4a6b-bb7e-361e0caab20e",
    "collapsed": false,
    "execution": {
     "iopub.execute_input": "2023-01-18T12:27:07.028323Z",
     "iopub.status.busy": "2023-01-18T12:27:07.027834Z",
     "iopub.status.idle": "2023-01-18T12:27:07.042977Z",
     "shell.execute_reply": "2023-01-18T12:27:07.041184Z",
     "shell.execute_reply.started": "2023-01-18T12:27:07.028279Z"
    },
    "jupyter": {
     "outputs_hidden": false
    },
    "trusted": true
   },
   "outputs": [
    {
     "name": "stdout",
     "output_type": "stream",
     "text": [
      "              precision    recall  f1-score   support\n",
      "\n",
      "           0       0.85      0.89      0.87        74\n",
      "           1       0.92      0.89      0.91       110\n",
      "\n",
      "    accuracy                           0.89       184\n",
      "   macro avg       0.89      0.89      0.89       184\n",
      "weighted avg       0.89      0.89      0.89       184\n",
      "\n"
     ]
    }
   ],
   "source": [
    "# Writing metric values\n",
    "print(classification_report(y_test, y_pred))"
   ]
  },
  {
   "cell_type": "markdown",
   "metadata": {
    "_cell_guid": "9d580595-053e-4935-a296-c441e936bbf5",
    "_uuid": "f86e3d0c-47f8-4cb1-84f1-86aa86419270",
    "trusted": true
   },
   "source": [
    "We observe 12 FN predictions and 0.89 accuracy based on regression classification. We add other algorithms to get better results."
   ]
  },
  {
   "cell_type": "markdown",
   "metadata": {
    "_cell_guid": "5cf35251-40a1-4bfd-b486-deb06e55d93f",
    "_uuid": "c6aa48f2-fa92-4b24-a659-21791d7884de",
    "trusted": true
   },
   "source": [
    "#  2 .Implementation of Decision Tree Algorithm"
   ]
  },
  {
   "cell_type": "markdown",
   "metadata": {},
   "source": [
    "Decision trees – a classification method that creates a model in the form of a tree structure consisting of decision nodes and leaf nodes according to the classification, feature and goal. The decision tree algorithm is developed by dividing the dataset into smaller and even smaller pieces. A decision node may have one or more branches. The first node is called the root node. A decision tree may consist of both categorical and numerical data."
   ]
  },
  {
   "cell_type": "code",
   "execution_count": null,
   "metadata": {
    "_cell_guid": "978e701f-149e-4737-ba24-4b315ae72bdf",
    "_uuid": "ee3d0055-5eac-4fad-854f-04457d0d0b81",
    "collapsed": false,
    "execution": {
     "iopub.execute_input": "2023-01-18T12:27:11.243425Z",
     "iopub.status.busy": "2023-01-18T12:27:11.242945Z",
     "iopub.status.idle": "2023-01-18T12:27:11.277974Z",
     "shell.execute_reply": "2023-01-18T12:27:11.276531Z",
     "shell.execute_reply.started": "2023-01-18T12:27:11.243380Z"
    },
    "jupyter": {
     "outputs_hidden": false
    },
    "trusted": true
   },
   "outputs": [],
   "source": [
    "from sklearn.tree import DecisionTreeClassifier\n",
    "classifier=DecisionTreeClassifier() "
   ]
  },
  {
   "cell_type": "code",
   "execution_count": null,
   "metadata": {
    "_cell_guid": "16648e6c-24a5-40dd-9fd0-0dd814059dc8",
    "_uuid": "b9155c11-86f2-4a8c-9fd7-333916089f27",
    "collapsed": false,
    "execution": {
     "iopub.execute_input": "2023-01-18T12:27:14.226965Z",
     "iopub.status.busy": "2023-01-18T12:27:14.226507Z",
     "iopub.status.idle": "2023-01-18T12:27:14.241798Z",
     "shell.execute_reply": "2023-01-18T12:27:14.240721Z",
     "shell.execute_reply.started": "2023-01-18T12:27:14.226930Z"
    },
    "jupyter": {
     "outputs_hidden": false
    },
    "trusted": true
   },
   "outputs": [
    {
     "data": {
      "text/plain": [
       "DecisionTreeClassifier()"
      ]
     },
     "execution_count": 28,
     "metadata": {},
     "output_type": "execute_result"
    }
   ],
   "source": [
    "classifier.fit(x_train, y_train) #Creating the Decision Tree Model"
   ]
  },
  {
   "cell_type": "code",
   "execution_count": null,
   "metadata": {
    "_cell_guid": "2dbb683b-233c-40bc-9961-3fb98bed3711",
    "_uuid": "e579a7cb-7370-49fb-ad78-e76c2806c8d5",
    "collapsed": false,
    "execution": {
     "iopub.execute_input": "2023-01-18T12:27:16.998093Z",
     "iopub.status.busy": "2023-01-18T12:27:16.997638Z",
     "iopub.status.idle": "2023-01-18T12:27:17.005721Z",
     "shell.execute_reply": "2023-01-18T12:27:17.004582Z",
     "shell.execute_reply.started": "2023-01-18T12:27:16.998059Z"
    },
    "jupyter": {
     "outputs_hidden": false
    },
    "trusted": true
   },
   "outputs": [],
   "source": [
    "y_pred=classifier.predict(x_test) #make a guess"
   ]
  },
  {
   "cell_type": "code",
   "execution_count": null,
   "metadata": {
    "_cell_guid": "deb6b379-9df9-4194-89f7-8f8be4fa651d",
    "_uuid": "69dfc4cd-8607-40c8-b0c9-aeb50cdd45c0",
    "collapsed": false,
    "execution": {
     "iopub.execute_input": "2023-01-18T12:27:18.938634Z",
     "iopub.status.busy": "2023-01-18T12:27:18.938141Z",
     "iopub.status.idle": "2023-01-18T12:27:18.946715Z",
     "shell.execute_reply": "2023-01-18T12:27:18.945866Z",
     "shell.execute_reply.started": "2023-01-18T12:27:18.938593Z"
    },
    "jupyter": {
     "outputs_hidden": false
    },
    "trusted": true
   },
   "outputs": [
    {
     "name": "stdout",
     "output_type": "stream",
     "text": [
      "[[60 28]\n",
      " [14 82]]\n"
     ]
    }
   ],
   "source": [
    "cm=confusion_matrix(y_pred,y_test) #Confusion matrix draving\n",
    "print(cm)"
   ]
  },
  {
   "cell_type": "code",
   "execution_count": null,
   "metadata": {
    "_cell_guid": "8959aa90-201a-40eb-86b1-f3ca422accb9",
    "_uuid": "fc5f6bc5-c138-4260-b2f3-ffcb2d34456a",
    "collapsed": false,
    "execution": {
     "iopub.execute_input": "2023-01-18T12:27:22.099995Z",
     "iopub.status.busy": "2023-01-18T12:27:22.099555Z",
     "iopub.status.idle": "2023-01-18T12:27:22.114375Z",
     "shell.execute_reply": "2023-01-18T12:27:22.113004Z",
     "shell.execute_reply.started": "2023-01-18T12:27:22.099962Z"
    },
    "jupyter": {
     "outputs_hidden": false
    },
    "trusted": true
   },
   "outputs": [
    {
     "name": "stdout",
     "output_type": "stream",
     "text": [
      "              precision    recall  f1-score   support\n",
      "\n",
      "           0       0.68      0.81      0.74        74\n",
      "           1       0.85      0.75      0.80       110\n",
      "\n",
      "    accuracy                           0.77       184\n",
      "   macro avg       0.77      0.78      0.77       184\n",
      "weighted avg       0.78      0.77      0.77       184\n",
      "\n"
     ]
    }
   ],
   "source": [
    "print(classification_report(y_test, y_pred)) #write the metrics"
   ]
  },
  {
   "cell_type": "markdown",
   "metadata": {
    "_cell_guid": "34b67a4c-896d-4634-a9f9-7b603e38d3c7",
    "_uuid": "05847d7b-5e3a-407e-b01c-cfbe95450d03",
    "trusted": true
   },
   "source": [
    "According to the Decision Tree classification, we observe 28 FN predictions and 0.77 accuracy. We can say that the lowest success rate is in this algorithm."
   ]
  },
  {
   "cell_type": "markdown",
   "metadata": {
    "_cell_guid": "a186513b-0a45-467f-bd64-8a00581d7c35",
    "_uuid": "17c7fd52-0892-4e81-9eff-931d6f05f15f",
    "trusted": true
   },
   "source": [
    "#  3 .Implementation of SVM Algorithm"
   ]
  },
  {
   "cell_type": "markdown",
   "metadata": {},
   "source": [
    "Support Vector Machines (SVM) is one of the supervised learning methods generally used in classification problems. It draws a line to separate points placed on a plane. It aims for this line to be at the maximum distance for points of both classes. It is suitable for complex but small and medium-sized data sets."
   ]
  },
  {
   "cell_type": "code",
   "execution_count": null,
   "metadata": {
    "_cell_guid": "2acd471f-3453-486f-ba0b-9d32ae6cf9e0",
    "_uuid": "96b70a93-b717-49ab-9238-a201189fc609",
    "collapsed": false,
    "execution": {
     "iopub.execute_input": "2023-01-18T12:27:41.593432Z",
     "iopub.status.busy": "2023-01-18T12:27:41.592949Z",
     "iopub.status.idle": "2023-01-18T12:27:41.599804Z",
     "shell.execute_reply": "2023-01-18T12:27:41.598081Z",
     "shell.execute_reply.started": "2023-01-18T12:27:41.593397Z"
    },
    "jupyter": {
     "outputs_hidden": false
    },
    "trusted": true
   },
   "outputs": [],
   "source": [
    "from sklearn.svm import SVC\n",
    "svm=SVC() #Add method"
   ]
  },
  {
   "cell_type": "code",
   "execution_count": null,
   "metadata": {
    "_cell_guid": "55bc420a-fae6-4193-bc6d-57edb50288e3",
    "_uuid": "4b75b44d-77be-470f-9944-c60041f30c8e",
    "collapsed": false,
    "execution": {
     "iopub.execute_input": "2023-01-18T12:27:43.715210Z",
     "iopub.status.busy": "2023-01-18T12:27:43.714804Z",
     "iopub.status.idle": "2023-01-18T12:27:43.740092Z",
     "shell.execute_reply": "2023-01-18T12:27:43.738965Z",
     "shell.execute_reply.started": "2023-01-18T12:27:43.715178Z"
    },
    "jupyter": {
     "outputs_hidden": false
    },
    "trusted": true
   },
   "outputs": [
    {
     "data": {
      "text/plain": [
       "SVC()"
      ]
     },
     "execution_count": 33,
     "metadata": {},
     "output_type": "execute_result"
    }
   ],
   "source": [
    "svm.fit(x_train , y_train) #Creating the SVM Model"
   ]
  },
  {
   "cell_type": "code",
   "execution_count": null,
   "metadata": {
    "_cell_guid": "837d2459-ee06-4f9e-ad76-1eb79b7cc754",
    "_uuid": "1a42cf36-08a6-4c2f-a20d-7fff4f7554cb",
    "collapsed": false,
    "execution": {
     "iopub.execute_input": "2023-01-18T12:27:46.728412Z",
     "iopub.status.busy": "2023-01-18T12:27:46.726891Z",
     "iopub.status.idle": "2023-01-18T12:27:46.739372Z",
     "shell.execute_reply": "2023-01-18T12:27:46.737924Z",
     "shell.execute_reply.started": "2023-01-18T12:27:46.728366Z"
    },
    "jupyter": {
     "outputs_hidden": false
    },
    "trusted": true
   },
   "outputs": [],
   "source": [
    "y_pred=svm.predict(x_test) #Make a guess"
   ]
  },
  {
   "cell_type": "code",
   "execution_count": null,
   "metadata": {
    "_cell_guid": "bc717034-5964-4f3f-8f71-a7797151505f",
    "_uuid": "c6ba1a5e-c135-427d-937a-0a35daaa5888",
    "collapsed": false,
    "execution": {
     "iopub.execute_input": "2023-01-18T12:27:48.601765Z",
     "iopub.status.busy": "2023-01-18T12:27:48.601316Z",
     "iopub.status.idle": "2023-01-18T12:27:48.609794Z",
     "shell.execute_reply": "2023-01-18T12:27:48.608196Z",
     "shell.execute_reply.started": "2023-01-18T12:27:48.601731Z"
    },
    "jupyter": {
     "outputs_hidden": false
    },
    "trusted": true
   },
   "outputs": [
    {
     "name": "stdout",
     "output_type": "stream",
     "text": [
      "[[ 64  10]\n",
      " [  9 101]]\n"
     ]
    }
   ],
   "source": [
    "cm=confusion_matrix(y_test, y_pred) #Confusion matrix drawing\n",
    "print(cm)"
   ]
  },
  {
   "cell_type": "code",
   "execution_count": null,
   "metadata": {
    "_cell_guid": "fe3368c7-0648-49b1-90f4-5ea418fe6ec0",
    "_uuid": "714926c9-280b-4775-90df-7218dd15d2e3",
    "collapsed": false,
    "execution": {
     "iopub.execute_input": "2023-01-18T12:27:51.965824Z",
     "iopub.status.busy": "2023-01-18T12:27:51.965376Z",
     "iopub.status.idle": "2023-01-18T12:27:51.976997Z",
     "shell.execute_reply": "2023-01-18T12:27:51.975543Z",
     "shell.execute_reply.started": "2023-01-18T12:27:51.965789Z"
    },
    "jupyter": {
     "outputs_hidden": false
    },
    "trusted": true
   },
   "outputs": [
    {
     "name": "stdout",
     "output_type": "stream",
     "text": [
      "              precision    recall  f1-score   support\n",
      "\n",
      "           0       0.88      0.86      0.87        74\n",
      "           1       0.91      0.92      0.91       110\n",
      "\n",
      "    accuracy                           0.90       184\n",
      "   macro avg       0.89      0.89      0.89       184\n",
      "weighted avg       0.90      0.90      0.90       184\n",
      "\n"
     ]
    }
   ],
   "source": [
    "print(classification_report(y_test, y_pred)) #write the metrics"
   ]
  },
  {
   "cell_type": "markdown",
   "metadata": {
    "_cell_guid": "40398497-5a3b-4dc4-856c-115b1ba315b3",
    "_uuid": "36d2d1fe-a202-406d-a5cc-a12759271e2e",
    "trusted": true
   },
   "source": [
    "According to the SVM Algorithm, we observe 10 FN predictions and 0.90 accuracy. In this case, we can say that our classification is more successful in this algorithm."
   ]
  },
  {
   "cell_type": "markdown",
   "metadata": {
    "_cell_guid": "7f3dd0ec-18f2-4b79-9b75-9c04a8bfbfaf",
    "_uuid": "b972c42a-6169-497d-a323-35f89b5ad801",
    "trusted": true
   },
   "source": [
    "#  4 .RandomForest Classification"
   ]
  },
  {
   "cell_type": "markdown",
   "metadata": {},
   "source": [
    "The algorithm aims to increase the classification value during the classification process by producing multiple decision trees. The random forest algorithm is the process of selecting the highest scoring value among many decision trees that work independently of each other."
   ]
  },
  {
   "cell_type": "code",
   "execution_count": null,
   "metadata": {
    "_cell_guid": "4eea2272-8fc7-4d81-988a-b2ebc0de8345",
    "_uuid": "356efe6b-6517-4f5f-9b53-f90997999085",
    "collapsed": false,
    "execution": {
     "iopub.execute_input": "2023-01-18T12:27:56.654348Z",
     "iopub.status.busy": "2023-01-18T12:27:56.653894Z",
     "iopub.status.idle": "2023-01-18T12:27:56.733015Z",
     "shell.execute_reply": "2023-01-18T12:27:56.731749Z",
     "shell.execute_reply.started": "2023-01-18T12:27:56.654314Z"
    },
    "jupyter": {
     "outputs_hidden": false
    },
    "trusted": true
   },
   "outputs": [],
   "source": [
    "from sklearn.ensemble import RandomForestClassifier\n",
    "model=RandomForestClassifier(random_state=0) #Add method"
   ]
  },
  {
   "cell_type": "code",
   "execution_count": null,
   "metadata": {
    "_cell_guid": "30bbdffe-e6aa-4823-b4f1-56d9532a64e8",
    "_uuid": "f02224d9-fd12-4ba1-b028-30730ed25772",
    "collapsed": false,
    "execution": {
     "iopub.execute_input": "2023-01-18T12:27:58.874206Z",
     "iopub.status.busy": "2023-01-18T12:27:58.873730Z",
     "iopub.status.idle": "2023-01-18T12:27:59.089986Z",
     "shell.execute_reply": "2023-01-18T12:27:59.089059Z",
     "shell.execute_reply.started": "2023-01-18T12:27:58.874167Z"
    },
    "jupyter": {
     "outputs_hidden": false
    },
    "trusted": true
   },
   "outputs": [],
   "source": [
    "model.fit(x_train ,y_train) #RandomForest model creation\n",
    "y_pred=model.predict(x_test)"
   ]
  },
  {
   "cell_type": "code",
   "execution_count": null,
   "metadata": {
    "_cell_guid": "5a0f4e76-f781-4a59-9a9d-2bdd6654514e",
    "_uuid": "f1521e84-891d-463c-afd7-88127f5a57a4",
    "collapsed": false,
    "execution": {
     "iopub.execute_input": "2023-01-18T12:28:02.233076Z",
     "iopub.status.busy": "2023-01-18T12:28:02.232626Z",
     "iopub.status.idle": "2023-01-18T12:28:02.242177Z",
     "shell.execute_reply": "2023-01-18T12:28:02.240397Z",
     "shell.execute_reply.started": "2023-01-18T12:28:02.233042Z"
    },
    "jupyter": {
     "outputs_hidden": false
    },
    "trusted": true
   },
   "outputs": [
    {
     "name": "stdout",
     "output_type": "stream",
     "text": [
      "[[63 11]\n",
      " [11 99]]\n"
     ]
    }
   ],
   "source": [
    "cm=confusion_matrix(y_test, y_pred) #Confusion matrix drawing\n",
    "print(cm)"
   ]
  },
  {
   "cell_type": "code",
   "execution_count": null,
   "metadata": {
    "_cell_guid": "ec296871-1838-4bc2-bdec-b55fdb0fa940",
    "_uuid": "ffaf6fe0-94fb-48b3-a300-aa3aa0e85701",
    "collapsed": false,
    "execution": {
     "iopub.execute_input": "2023-01-18T12:28:04.873972Z",
     "iopub.status.busy": "2023-01-18T12:28:04.872680Z",
     "iopub.status.idle": "2023-01-18T12:28:04.881606Z",
     "shell.execute_reply": "2023-01-18T12:28:04.880086Z",
     "shell.execute_reply.started": "2023-01-18T12:28:04.873932Z"
    },
    "jupyter": {
     "outputs_hidden": false
    },
    "trusted": true
   },
   "outputs": [
    {
     "name": "stdout",
     "output_type": "stream",
     "text": [
      "0.8804347826086957\n"
     ]
    }
   ],
   "source": [
    "from sklearn.metrics import accuracy_score\n",
    "accuracy=accuracy_score(y_test, y_pred)\n",
    "print(accuracy)"
   ]
  },
  {
   "cell_type": "code",
   "execution_count": null,
   "metadata": {
    "_cell_guid": "b681db44-3b21-4116-b992-13df72d10756",
    "_uuid": "e9728cfb-3faf-479e-95c6-67d295cd0917",
    "collapsed": false,
    "execution": {
     "iopub.execute_input": "2023-01-18T12:28:08.473892Z",
     "iopub.status.busy": "2023-01-18T12:28:08.473443Z",
     "iopub.status.idle": "2023-01-18T12:28:08.486967Z",
     "shell.execute_reply": "2023-01-18T12:28:08.485595Z",
     "shell.execute_reply.started": "2023-01-18T12:28:08.473859Z"
    },
    "jupyter": {
     "outputs_hidden": false
    },
    "trusted": true
   },
   "outputs": [
    {
     "name": "stdout",
     "output_type": "stream",
     "text": [
      "              precision    recall  f1-score   support\n",
      "\n",
      "           0       0.85      0.85      0.85        74\n",
      "           1       0.90      0.90      0.90       110\n",
      "\n",
      "    accuracy                           0.88       184\n",
      "   macro avg       0.88      0.88      0.88       184\n",
      "weighted avg       0.88      0.88      0.88       184\n",
      "\n"
     ]
    }
   ],
   "source": [
    "print(classification_report(y_test, y_pred))  #write the metrics\n"
   ]
  },
  {
   "cell_type": "markdown",
   "metadata": {
    "_cell_guid": "3fe63751-b93b-4f1d-9b68-b7e18b8b8e77",
    "_uuid": "65c05e1d-f45e-47e1-8595-296128c47f9f",
    "trusted": true
   },
   "source": [
    " We observe 11 FN predictions and 0.88 accuracy based on Random Forest classification."
   ]
  },
  {
   "cell_type": "markdown",
   "metadata": {
    "_cell_guid": "ce8ddc68-0c19-4663-aebd-2191042eafd4",
    "_uuid": "92e148d3-fdc9-4c17-babd-1761dda87047",
    "trusted": true
   },
   "source": [
    "# 5. Implementation of KNN Algorithm"
   ]
  },
  {
   "cell_type": "markdown",
   "metadata": {},
   "source": [
    "KNN, in its simplest sense, is based on predicting the class of the value to be predicted based on the information in which class the nearest neighbors of the vector formed by the independent variables are dense."
   ]
  },
  {
   "cell_type": "code",
   "execution_count": null,
   "metadata": {
    "_cell_guid": "9ba15cee-8693-49b7-8577-60d3d8e49fb4",
    "_uuid": "f75969f6-e8b7-419c-b5b6-a683ccc1a1c0",
    "collapsed": false,
    "execution": {
     "iopub.execute_input": "2023-01-18T12:28:13.297874Z",
     "iopub.status.busy": "2023-01-18T12:28:13.296441Z",
     "iopub.status.idle": "2023-01-18T12:28:13.325446Z",
     "shell.execute_reply": "2023-01-18T12:28:13.323999Z",
     "shell.execute_reply.started": "2023-01-18T12:28:13.297815Z"
    },
    "jupyter": {
     "outputs_hidden": false
    },
    "trusted": true
   },
   "outputs": [
    {
     "name": "stdout",
     "output_type": "stream",
     "text": [
      "[[62 12]\n",
      " [22 88]]\n",
      "\n",
      "\n",
      "              precision    recall  f1-score   support\n",
      "\n",
      "           0       0.74      0.84      0.78        74\n",
      "           1       0.88      0.80      0.84       110\n",
      "\n",
      "    accuracy                           0.82       184\n",
      "   macro avg       0.81      0.82      0.81       184\n",
      "weighted avg       0.82      0.82      0.82       184\n",
      "\n"
     ]
    }
   ],
   "source": [
    "from sklearn.neighbors import KNeighborsClassifier\n",
    "KNN_model = KNeighborsClassifier(n_neighbors=1)\n",
    "KNN_model.fit(x_train,y_train) #Knn model creation\n",
    "KNN_predictions = KNN_model.predict(x_test)\n",
    "\n",
    "print(confusion_matrix(y_test,KNN_predictions)) #Confusion matrix drawing\n",
    "print(classification_report(y_test,KNN_predictions)) #write the metrics"
   ]
  },
  {
   "cell_type": "markdown",
   "metadata": {
    "_cell_guid": "66539b8c-e916-456b-bea4-cf8733deabf7",
    "_uuid": "21727767-605b-4c6c-80e9-98de843865ff",
    "trusted": true
   },
   "source": [
    "Confusion Matrix is ​​shown as 2x2 in the above output."
   ]
  },
  {
   "cell_type": "markdown",
   "metadata": {
    "_cell_guid": "a224c6e4-d0c9-4661-80dd-35921a32e49a",
    "_uuid": "fd917ae2-d7b8-4b85-9a0f-d97cc4e5453d",
    "trusted": true
   },
   "source": [
    "We observe 12 FN predictions and 0.82 accuracy based on K = 1. Let’s try to optimize the KNN model by finding the best K value. This can be found using the elbow method:"
   ]
  },
  {
   "cell_type": "code",
   "execution_count": null,
   "metadata": {
    "_cell_guid": "b37b0b18-f342-48f8-8cda-4edc4906efe6",
    "_uuid": "fd2d5775-1365-402b-9238-74435489f816",
    "collapsed": false,
    "execution": {
     "iopub.execute_input": "2023-01-18T12:28:21.996882Z",
     "iopub.status.busy": "2023-01-18T12:28:21.994960Z",
     "iopub.status.idle": "2023-01-18T12:28:22.539632Z",
     "shell.execute_reply": "2023-01-18T12:28:22.538399Z",
     "shell.execute_reply.started": "2023-01-18T12:28:21.996816Z"
    },
    "jupyter": {
     "outputs_hidden": false
    },
    "trusted": true
   },
   "outputs": [],
   "source": [
    "error_rate = []\n",
    "\n",
    "for i in range(1,40):\n",
    "    \n",
    "    KNN_model = KNeighborsClassifier(n_neighbors=i)\n",
    "    KNN_model.fit(x_train,y_train)\n",
    "    pred_i = KNN_model.predict(x_test)\n",
    "    error_rate.append(np.mean(pred_i != y_test))"
   ]
  },
  {
   "cell_type": "markdown",
   "metadata": {
    "_cell_guid": "0d0f7b58-a08d-4fb3-9f2f-89b5de57e44c",
    "_uuid": "5c77e905-78db-4c7a-8cc7-eb52531dbbf0",
    "trusted": true
   },
   "source": [
    "* By creating an error table, we aim to reduce the FN estimate and increase accuracy by taking a new K value as the minimum error value."
   ]
  },
  {
   "cell_type": "code",
   "execution_count": null,
   "metadata": {
    "_cell_guid": "9af3a432-9d64-4e60-a020-d3efb7148728",
    "_uuid": "b8d35c9c-54a6-4f30-9b62-e59cee19e4ac",
    "collapsed": false,
    "execution": {
     "iopub.execute_input": "2023-01-18T12:28:25.527518Z",
     "iopub.status.busy": "2023-01-18T12:28:25.527032Z",
     "iopub.status.idle": "2023-01-18T12:28:25.782038Z",
     "shell.execute_reply": "2023-01-18T12:28:25.780656Z",
     "shell.execute_reply.started": "2023-01-18T12:28:25.527478Z"
    },
    "jupyter": {
     "outputs_hidden": false
    },
    "trusted": true
   },
   "outputs": [
    {
     "data": {
      "text/plain": [
       "Text(0, 0.5, 'Error Rate')"
      ]
     },
     "execution_count": 44,
     "metadata": {},
     "output_type": "execute_result"
    },
    {
     "data": {
      "image/png": "[encoded data removed]",
      "text/plain": [
       "<Figure size 720x432 with 1 Axes>"
      ]
     },
     "metadata": {
      "needs_background": "light"
     },
     "output_type": "display_data"
    }
   ],
   "source": [
    "#Hata Tablosu oluşturma\n",
    "plt.figure(figsize=(10,6))\n",
    "plt.plot(range(1,40),error_rate,color='blue', linestyle='dashed', marker='o',\n",
    "         markerfacecolor='red', markersize=10)\n",
    "plt.title('Error Rate vs. K Value')\n",
    "plt.xlabel('K')\n",
    "plt.ylabel('Error Rate')"
   ]
  },
  {
   "cell_type": "markdown",
   "metadata": {
    "_cell_guid": "3c1855d3-0983-459a-a688-bd98b4610481",
    "_uuid": "9d0f70b6-e575-4686-9b11-31f2f356d661",
    "trusted": true
   },
   "source": [
    "The optimum K value is now 7. We improve this situation by setting the new K value to 7."
   ]
  },
  {
   "cell_type": "code",
   "execution_count": null,
   "metadata": {
    "_cell_guid": "73b7cf7d-2334-4b66-8dda-47a50a78f69b",
    "_uuid": "03ff86f1-d857-41d5-9b39-6e628bcf52e1",
    "collapsed": false,
    "execution": {
     "iopub.execute_input": "2023-01-18T12:28:33.766902Z",
     "iopub.status.busy": "2023-01-18T12:28:33.766416Z",
     "iopub.status.idle": "2023-01-18T12:28:33.796249Z",
     "shell.execute_reply": "2023-01-18T12:28:33.795049Z",
     "shell.execute_reply.started": "2023-01-18T12:28:33.766865Z"
    },
    "jupyter": {
     "outputs_hidden": false
    },
    "trusted": true
   },
   "outputs": [
    {
     "name": "stdout",
     "output_type": "stream",
     "text": [
      "[[65  9]\n",
      " [12 98]]\n",
      "\n",
      "\n",
      "              precision    recall  f1-score   support\n",
      "\n",
      "           0       0.84      0.88      0.86        74\n",
      "           1       0.92      0.89      0.90       110\n",
      "\n",
      "    accuracy                           0.89       184\n",
      "   macro avg       0.88      0.88      0.88       184\n",
      "weighted avg       0.89      0.89      0.89       184\n",
      "\n"
     ]
    }
   ],
   "source": [
    "KNN_model = KNeighborsClassifier(n_neighbors=7)\n",
    "\n",
    "KNN_model.fit(x_train,y_train)\n",
    "KNN_predictions = KNN_model.predict(x_test)\n",
    "\n",
    "print(confusion_matrix(y_test,KNN_predictions))\n",
    "print('\\n')\n",
    "print(classification_report(y_test,KNN_predictions))"
   ]
  },
  {
   "cell_type": "markdown",
   "metadata": {
    "_cell_guid": "0c2fc660-fd93-44f5-b1b9-61568a65ad36",
    "_uuid": "6db6a4a6-2f37-4daf-860a-978dd2766834",
    "trusted": true
   },
   "source": [
    "We see that our model is now better than before. The number of FN estimates decreases by 3 and as a result of K: 7, FN: 9, Accuracy: 0.89. And we achieve the same success as the logistic regression algorithm."
   ]
  },
  {
   "cell_type": "markdown",
   "metadata": {
    "_cell_guid": "68847d8b-0151-4720-b0b9-24c572b8d900",
    "_uuid": "85a0cccd-ba5f-46e2-936f-d7109e5f44fe",
    "trusted": true
   },
   "source": [
    "#   ⚖️ Classification Report"
   ]
  },
  {
   "cell_type": "markdown",
   "metadata": {
    "_cell_guid": "a425399e-66e8-4537-b080-520b340f8cd0",
    "_uuid": "f88d6bab-440e-4475-87a4-9f33bb21b113",
    "trusted": true
   },
   "source": [
    "> TP (True Positive) is a set of correct predictions that are true when the label is True and predicted as True\n",
    "\n",
    "> TN (True Negative) is a set of correct predictions that are false when the label is False and predicted as False\n",
    "\n",
    "> FP (False Positive) is a set of incorrect predictions that are false when the label is False but predicted as True\n",
    "\n",
    "> FN (False Negative) is a set of incorrect predictions that are true when the label is True but predicted as False\n",
    "\n",
    "> Precision is the accuracy of positive predictions Precision represents the percentage of correct predictions In other words, it is the ability to label an image as positive but not actually label it as negative. Precision is calculated by the following equation: Precision = TP\n",
    "\n",
    "> Recall is the fraction of positive predictions among all True examples In other words, it is the ability to find all positive examples. Recall is calculated by the following equation: Recall = TP / (TP + FN)\n",
    "\n",
    "> F1 Score is the so-called weighted harmonic average of Precision and Recall. Since F1 score includes Precision and Recall in its calculation and therefore includes the contributions of Precision and Recall to F1, it is also known as balanced F-score or F-measure. -score is equal to F1-score reaches its best value at 1 and worst score at 0. F1-score is calculated by the following equation: F1-score = 2 (Recall Precision)\n",
    "\n",
    "> Support is the number of occurrences of each class in a dataset.\n",
    "\n",
    "> Accuracy is a global accuracy of the entire classifier. Accuracy is calculated by the following equation: Accuracy = (TP + TN) / (TP + TN + FP + FN) (all correct / all)"
   ]
  }
 ],
 "metadata": {
  "kernelspec": {
   "display_name": "Python 3",
   "language": "python",
   "name": "python3"
  },
  "language_info": {
   "codemirror_mode": {
    "name": "ipython",
    "version": 3
   },
   "file_extension": ".py",
   "mimetype": "text/x-python",
   "name": "python",
   "nbconvert_exporter": "python",
   "pygments_lexer": "ipython3",
   "version": "3.7.12"
  }
 },
 "nbformat": 4,
 "nbformat_minor": 4
}
